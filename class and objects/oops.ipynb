{
 "cells": [
  {
   "cell_type": "code",
   "execution_count": 4,
   "metadata": {},
   "outputs": [
    {
     "name": "stdout",
     "output_type": "stream",
     "text": [
      "german\n",
      "BMW\n",
      "2005\n",
      "engine started\n"
     ]
    }
   ],
   "source": [
    "class Car:\n",
    "    def __init__(self,make,model,year):\n",
    "        self.make=make\n",
    "        self.model=model\n",
    "        self.year=year\n",
    "    def start_engine(self):\n",
    "        print(\"engine started\")\n",
    "car1=Car(\"german\",\"BMW\",2005)\n",
    "print(car1.make)\n",
    "print(car1.model)\n",
    "print(car1.year)\n",
    "car1.start_engine()\n",
    "        "
   ]
  },
  {
   "cell_type": "code",
   "execution_count": 9,
   "metadata": {},
   "outputs": [
    {
     "name": "stdout",
     "output_type": "stream",
     "text": [
      "42069\n",
      "69 withdrawn, your current balance is 42000\n",
      "69 deposited, your current balance is 42069\n"
     ]
    }
   ],
   "source": [
    "class BankAccount():\n",
    "    def __init__(self,account_number,balance):\n",
    "        self.account_number=account_number\n",
    "        self.balance=balance\n",
    "    def deposit(self,deposit):\n",
    "        self.balance+=deposit\n",
    "        print(f\"{deposit} deposited, your current balance is {self.balance}\")\n",
    "    def withdraw(self,withdraw):\n",
    "        if self.balance<withdraw:\n",
    "            print(\"Insufficient funds\")\n",
    "        else:\n",
    "            self.balance-=withdraw\n",
    "            print(f\"{withdraw} withdrawn, your current balance is {self.balance}\")\n",
    "    def ck_balance(self):\n",
    "        print(self.balance)\n",
    "acc1=BankAccount(69,42069)\n",
    "acc1.ck_balance()\n",
    "acc1.withdraw(69)\n",
    "acc1.deposit(69)"
   ]
  },
  {
   "cell_type": "code",
   "execution_count": null,
   "metadata": {},
   "outputs": [],
   "source": []
  }
 ],
 "metadata": {
  "kernelspec": {
   "display_name": "Python 3",
   "language": "python",
   "name": "python3"
  },
  "language_info": {
   "codemirror_mode": {
    "name": "ipython",
    "version": 3
   },
   "file_extension": ".py",
   "mimetype": "text/x-python",
   "name": "python",
   "nbconvert_exporter": "python",
   "pygments_lexer": "ipython3",
   "version": "3.10.0"
  }
 },
 "nbformat": 4,
 "nbformat_minor": 2
}
