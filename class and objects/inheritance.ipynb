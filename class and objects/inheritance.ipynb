{
 "cells": [
  {
   "cell_type": "code",
   "execution_count": 8,
   "metadata": {},
   "outputs": [
    {
     "name": "stdout",
     "output_type": "stream",
     "text": [
      "shre\n",
      "19\n",
      "1\n",
      "emp is good:True\n"
     ]
    }
   ],
   "source": [
    "class Person:\n",
    "    def __init__(self,name,age):\n",
    "        self.name=name\n",
    "        self.age=age\n",
    "    def hmm(self):\n",
    "        return \"attribute\"\n",
    "class Employee(Person):\n",
    "    def __init__(self,name,age,employee_id,is_good):\n",
    "        super().__init__(name,age)\n",
    "        self.employee_id=employee_id\n",
    "        self.is_good=is_good\n",
    "    def hmm(self):\n",
    "        return f\"emp is good:{self.is_good}\"\n",
    "emp1=Employee(\"shre\",19,1,True)\n",
    "print(emp1.name)\n",
    "print(emp1.age)\n",
    "print(emp1.employee_id)\n",
    "print(emp1.hmm())\n"
   ]
  },
  {
   "cell_type": "code",
   "execution_count": null,
   "metadata": {},
   "outputs": [],
   "source": []
  }
 ],
 "metadata": {
  "kernelspec": {
   "display_name": "Python 3",
   "language": "python",
   "name": "python3"
  },
  "language_info": {
   "codemirror_mode": {
    "name": "ipython",
    "version": 3
   },
   "file_extension": ".py",
   "mimetype": "text/x-python",
   "name": "python",
   "nbconvert_exporter": "python",
   "pygments_lexer": "ipython3",
   "version": "3.10.0"
  }
 },
 "nbformat": 4,
 "nbformat_minor": 2
}
